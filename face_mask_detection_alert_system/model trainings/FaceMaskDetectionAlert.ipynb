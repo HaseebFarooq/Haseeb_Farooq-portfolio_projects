{
  "nbformat": 4,
  "nbformat_minor": 0,
  "metadata": {
    "colab": {
      "name": "FaceMaskDetectionAlert.ipynb",
      "private_outputs": true,
      "provenance": [],
      "collapsed_sections": []
    },
    "kernelspec": {
      "name": "python3",
      "display_name": "Python 3"
    },
    "language_info": {
      "name": "python"
    },
    "accelerator": "GPU"
  },
  "cells": [
    {
      "cell_type": "code",
      "metadata": {
        "id": "sxlNIdspiKv4"
      },
      "source": [
        "'''\n",
        "Porfolio Project By Muhammad Haseeb Farooq\n",
        "Contact: hf.haseebfarooq@gmail.com\n",
        "'''\n",
        "#import packages\n",
        "import os\n",
        "os.chdir(\"/content/drive/MyDrive\")\n",
        "Dataset=\"/content/drive/MyDrive/data\"\n",
        "Data_Dir=os.listdir(Dataset)\n",
        "print(Data_Dir)"
      ],
      "execution_count": null,
      "outputs": []
    },
    {
      "cell_type": "code",
      "metadata": {
        "id": "QHqmY347jgNg"
      },
      "source": [
        "#import necessary libraries\n",
        "import cv2\n",
        "import numpy as np\n",
        "from tensorflow.keras.utils import to_categorical\n",
        "from sklearn.preprocessing import LabelBinarizer\n",
        "from sklearn.model_selection import train_test_split\n",
        "\n",
        "img_row, img_col = 112, 112\n",
        "\n",
        "images = []\n",
        "labels = []\n",
        "\n",
        "for category in Data_Dir:\n",
        "  folder_path = os.path.join(Dataset, category)\n",
        "  for img in os.listdir(folder_path):\n",
        "    img_path = os.path.join(folder_path, img)\n",
        "    img = cv2.imread(img_path)\n",
        "\n",
        "    try:\n",
        "      #converting the image into gray scale\n",
        "      grayscale_img=cv2.cvtColor(img,cv2.COLOR_BGR2GRAY)\n",
        "      \n",
        "      #Resizing the gray scaled images into the size 56 x 56 in order to keep size of the image consistant\n",
        "      resized_img=cv2.resize(grayscale_img,(img_row, img_col))\n",
        "      images.append(resized_img)\n",
        "      labels.append(category)\n",
        "  #Exception Handling in case any error occur\n",
        "    except Exception as e:\n",
        "      print(\"Exception:\",e)\n",
        "\n",
        "images=np.array(images)/255.0\n",
        "images=np.reshape(images,(images.shape[0],img_row, img_col,1)) \n",
        "\n",
        "#perform one hot encoding on the labels since the label are textual form\n",
        "lb = LabelBinarizer()\n",
        "labels = lb.fit_transform(labels)\n",
        "labels = to_categorical(labels)\n",
        "labels = np.array(labels)\n",
        "\n",
        "(train_X, test_X, train_y, test_y) = train_test_split(images, labels, test_size=0.25, random_state=0)\n",
        "\n"
      ],
      "execution_count": null,
      "outputs": []
    },
    {
      "cell_type": "code",
      "metadata": {
        "id": "cWvj_6IAxVah"
      },
      "source": [
        "#Building CNN\n",
        "#import necessary keras/TensorFlow libraries\n",
        "from keras.models import Sequential\n",
        "from keras.layers import Dense, Activation, Flatten, Dropout\n",
        "from keras.layers import Conv2D, MaxPooling2D\n",
        "\n",
        "#Define model parameters\n",
        "num_classes = 2\n",
        "batch_size = 32\n",
        "\n",
        "#Build CNN Model Layers using Sequential API\n",
        "model = Sequential()\n",
        "\n",
        "#First Layer Group containing Convolution, Relu and MaxPooling layers\n",
        "model.add(Conv2D(64,(3,3),input_shape=(img_row, img_col, 1)))\n",
        "model.add(Activation('relu'))\n",
        "model.add(MaxPooling2D(pool_size=(2,2)))\n",
        "\n",
        "#Second layer Group containing Convolution, Relu and MAXPooling\n",
        "model.add(Conv2D(128,(3,3)))\n",
        "model.add(Activation('relu'))\n",
        "model.add(MaxPooling2D(pool_size=(2,2)))\n",
        "\n",
        "#Flatten and Dropout layers to stack output\n",
        "model.add(Flatten())\n",
        "model.add(Dropout(0.5))\n",
        "\n",
        "#Softmax Classifier\n",
        "model.add(Dense(64, activation='relu'))\n",
        "model.add(Dense(num_classes,activation='softmax'))\n",
        "\n",
        "#printing model summary\n",
        "print(model.summary())\n"
      ],
      "execution_count": null,
      "outputs": []
    },
    {
      "cell_type": "code",
      "metadata": {
        "id": "bTtZvYDGz5T-"
      },
      "source": [
        "#plot model structure\n",
        "from keras.utils.vis_utils import plot_model\n",
        "plot_model(model, to_file=\"face_mask_model_structure.png\")"
      ],
      "execution_count": null,
      "outputs": []
    },
    {
      "cell_type": "code",
      "metadata": {
        "id": "VXU-66xi0PWR"
      },
      "source": [
        "#train model\n",
        "from keras.optimizers import Adam\n",
        "epochs = 50\n",
        "\n",
        "model.compile(loss = 'categorical_crossentropy',\n",
        "              optimizer = Adam(lr=0.001),\n",
        "              metrics = ['accuracy'])\n",
        "\n",
        "fitted_model = model.fit(\n",
        "    train_X,\n",
        "    train_y,\n",
        "    epochs = epochs,\n",
        "    validation_split=0.25)"
      ],
      "execution_count": null,
      "outputs": []
    },
    {
      "cell_type": "code",
      "metadata": {
        "id": "BA_HIRwV4cge"
      },
      "source": [
        "#ploting the training result\n",
        "from matplotlib import pyplot as plt\n",
        "#Plotting Training and VAlidation loss\n",
        "plt.plot(fitted_model.history['loss'], label='training loss')\n",
        "plt.plot(fitted_model.history['val_loss'], label='Val loss')\n",
        "plt.xlabel('Number of Epochs')\n",
        "plt.ylabel('loss values')\n",
        "plt.legend()\n",
        "plt.show()\n",
        "\n",
        "#plot the training and validation accuracy\n",
        "plt.plot(fitted_model.history['accuracy'], label='training acc')\n",
        "plt.plot(fitted_model.history['val_accuracy'], label='Val acc')\n",
        "plt.xlabel('Number of Epochs')\n",
        "plt.ylabel('acc values')\n",
        "plt.legend()\n",
        "plt.show()\n",
        "\n"
      ],
      "execution_count": null,
      "outputs": []
    },
    {
      "cell_type": "code",
      "metadata": {
        "id": "-86r5Bj35ffp"
      },
      "source": [
        "#saving my model with name\n",
        "model.save('face_mask_model.h5')"
      ],
      "execution_count": null,
      "outputs": []
    }
  ]
}